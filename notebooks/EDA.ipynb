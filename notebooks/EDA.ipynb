{
 "cells": [
  {
   "cell_type": "code",
   "execution_count": 1,
   "metadata": {},
   "outputs": [],
   "source": [
    "import logging\n",
    "\n",
    "import matplotlib.pyplot as plt\n",
    "import numpy as np\n",
    "import pandas as pd\n",
    "import seaborn as sns\n",
    "import scipy.stats as stats\n",
    "import os\n"
   ]
  },
  {
   "cell_type": "code",
   "execution_count": 2,
   "metadata": {},
   "outputs": [],
   "source": [
    "DATA = os.getenv('DATA_DIR', '../data')"
   ]
  },
  {
   "cell_type": "code",
   "execution_count": 5,
   "metadata": {},
   "outputs": [],
   "source": [
    "pd.set_option('display.max_columns', 20)\n",
    "pd.set_option('display.max_rows', 10)"
   ]
  },
  {
   "cell_type": "markdown",
   "metadata": {},
   "source": [
    "### Загрузка данных"
   ]
  },
  {
   "cell_type": "code",
   "execution_count": 3,
   "metadata": {},
   "outputs": [
    {
     "name": "stderr",
     "output_type": "stream",
     "text": [
      "/tmp/ipykernel_3329/795805494.py:1: DtypeWarning: Columns (5,8,11,15) have mixed types. Specify dtype option on import or set low_memory=False.\n",
      "  df = pd.read_csv(os.path.join(DATA, \"raw\", \"train_ver2.csv\"))\n"
     ]
    }
   ],
   "source": [
    "\n",
    "df = pd.read_csv(os.path.join(DATA, \"raw\", \"train_ver2.csv\"))\n"
   ]
  },
  {
   "cell_type": "markdown",
   "metadata": {},
   "source": [
    "### Первичный анализ"
   ]
  },
  {
   "cell_type": "code",
   "execution_count": 6,
   "metadata": {},
   "outputs": [
    {
     "data": {
      "text/html": [
       "<div>\n",
       "<style scoped>\n",
       "    .dataframe tbody tr th:only-of-type {\n",
       "        vertical-align: middle;\n",
       "    }\n",
       "\n",
       "    .dataframe tbody tr th {\n",
       "        vertical-align: top;\n",
       "    }\n",
       "\n",
       "    .dataframe thead th {\n",
       "        text-align: right;\n",
       "    }\n",
       "</style>\n",
       "<table border=\"1\" class=\"dataframe\">\n",
       "  <thead>\n",
       "    <tr style=\"text-align: right;\">\n",
       "      <th></th>\n",
       "      <th>fecha_dato</th>\n",
       "      <th>ncodpers</th>\n",
       "      <th>ind_empleado</th>\n",
       "      <th>pais_residencia</th>\n",
       "      <th>sexo</th>\n",
       "      <th>age</th>\n",
       "      <th>fecha_alta</th>\n",
       "      <th>ind_nuevo</th>\n",
       "      <th>antiguedad</th>\n",
       "      <th>indrel</th>\n",
       "      <th>...</th>\n",
       "      <th>ind_hip_fin_ult1</th>\n",
       "      <th>ind_plan_fin_ult1</th>\n",
       "      <th>ind_pres_fin_ult1</th>\n",
       "      <th>ind_reca_fin_ult1</th>\n",
       "      <th>ind_tjcr_fin_ult1</th>\n",
       "      <th>ind_valo_fin_ult1</th>\n",
       "      <th>ind_viv_fin_ult1</th>\n",
       "      <th>ind_nomina_ult1</th>\n",
       "      <th>ind_nom_pens_ult1</th>\n",
       "      <th>ind_recibo_ult1</th>\n",
       "    </tr>\n",
       "  </thead>\n",
       "  <tbody>\n",
       "    <tr>\n",
       "      <th>0</th>\n",
       "      <td>2015-01-28</td>\n",
       "      <td>1375586</td>\n",
       "      <td>N</td>\n",
       "      <td>ES</td>\n",
       "      <td>H</td>\n",
       "      <td>35</td>\n",
       "      <td>2015-01-12</td>\n",
       "      <td>0.0</td>\n",
       "      <td>6</td>\n",
       "      <td>1.0</td>\n",
       "      <td>...</td>\n",
       "      <td>0</td>\n",
       "      <td>0</td>\n",
       "      <td>0</td>\n",
       "      <td>0</td>\n",
       "      <td>0</td>\n",
       "      <td>0</td>\n",
       "      <td>0</td>\n",
       "      <td>0.0</td>\n",
       "      <td>0.0</td>\n",
       "      <td>0</td>\n",
       "    </tr>\n",
       "    <tr>\n",
       "      <th>1</th>\n",
       "      <td>2015-01-28</td>\n",
       "      <td>1050611</td>\n",
       "      <td>N</td>\n",
       "      <td>ES</td>\n",
       "      <td>V</td>\n",
       "      <td>23</td>\n",
       "      <td>2012-08-10</td>\n",
       "      <td>0.0</td>\n",
       "      <td>35</td>\n",
       "      <td>1.0</td>\n",
       "      <td>...</td>\n",
       "      <td>0</td>\n",
       "      <td>0</td>\n",
       "      <td>0</td>\n",
       "      <td>0</td>\n",
       "      <td>0</td>\n",
       "      <td>0</td>\n",
       "      <td>0</td>\n",
       "      <td>0.0</td>\n",
       "      <td>0.0</td>\n",
       "      <td>0</td>\n",
       "    </tr>\n",
       "    <tr>\n",
       "      <th>2</th>\n",
       "      <td>2015-01-28</td>\n",
       "      <td>1050612</td>\n",
       "      <td>N</td>\n",
       "      <td>ES</td>\n",
       "      <td>V</td>\n",
       "      <td>23</td>\n",
       "      <td>2012-08-10</td>\n",
       "      <td>0.0</td>\n",
       "      <td>35</td>\n",
       "      <td>1.0</td>\n",
       "      <td>...</td>\n",
       "      <td>0</td>\n",
       "      <td>0</td>\n",
       "      <td>0</td>\n",
       "      <td>0</td>\n",
       "      <td>0</td>\n",
       "      <td>0</td>\n",
       "      <td>0</td>\n",
       "      <td>0.0</td>\n",
       "      <td>0.0</td>\n",
       "      <td>0</td>\n",
       "    </tr>\n",
       "    <tr>\n",
       "      <th>3</th>\n",
       "      <td>2015-01-28</td>\n",
       "      <td>1050613</td>\n",
       "      <td>N</td>\n",
       "      <td>ES</td>\n",
       "      <td>H</td>\n",
       "      <td>22</td>\n",
       "      <td>2012-08-10</td>\n",
       "      <td>0.0</td>\n",
       "      <td>35</td>\n",
       "      <td>1.0</td>\n",
       "      <td>...</td>\n",
       "      <td>0</td>\n",
       "      <td>0</td>\n",
       "      <td>0</td>\n",
       "      <td>0</td>\n",
       "      <td>0</td>\n",
       "      <td>0</td>\n",
       "      <td>0</td>\n",
       "      <td>0.0</td>\n",
       "      <td>0.0</td>\n",
       "      <td>0</td>\n",
       "    </tr>\n",
       "    <tr>\n",
       "      <th>4</th>\n",
       "      <td>2015-01-28</td>\n",
       "      <td>1050614</td>\n",
       "      <td>N</td>\n",
       "      <td>ES</td>\n",
       "      <td>V</td>\n",
       "      <td>23</td>\n",
       "      <td>2012-08-10</td>\n",
       "      <td>0.0</td>\n",
       "      <td>35</td>\n",
       "      <td>1.0</td>\n",
       "      <td>...</td>\n",
       "      <td>0</td>\n",
       "      <td>0</td>\n",
       "      <td>0</td>\n",
       "      <td>0</td>\n",
       "      <td>0</td>\n",
       "      <td>0</td>\n",
       "      <td>0</td>\n",
       "      <td>0.0</td>\n",
       "      <td>0.0</td>\n",
       "      <td>0</td>\n",
       "    </tr>\n",
       "  </tbody>\n",
       "</table>\n",
       "<p>5 rows × 48 columns</p>\n",
       "</div>"
      ],
      "text/plain": [
       "   fecha_dato  ncodpers ind_empleado pais_residencia sexo  age  fecha_alta  \\\n",
       "0  2015-01-28   1375586            N              ES    H   35  2015-01-12   \n",
       "1  2015-01-28   1050611            N              ES    V   23  2012-08-10   \n",
       "2  2015-01-28   1050612            N              ES    V   23  2012-08-10   \n",
       "3  2015-01-28   1050613            N              ES    H   22  2012-08-10   \n",
       "4  2015-01-28   1050614            N              ES    V   23  2012-08-10   \n",
       "\n",
       "   ind_nuevo antiguedad  indrel  ... ind_hip_fin_ult1 ind_plan_fin_ult1  \\\n",
       "0        0.0          6     1.0  ...                0                 0   \n",
       "1        0.0         35     1.0  ...                0                 0   \n",
       "2        0.0         35     1.0  ...                0                 0   \n",
       "3        0.0         35     1.0  ...                0                 0   \n",
       "4        0.0         35     1.0  ...                0                 0   \n",
       "\n",
       "  ind_pres_fin_ult1 ind_reca_fin_ult1 ind_tjcr_fin_ult1 ind_valo_fin_ult1  \\\n",
       "0                 0                 0                 0                 0   \n",
       "1                 0                 0                 0                 0   \n",
       "2                 0                 0                 0                 0   \n",
       "3                 0                 0                 0                 0   \n",
       "4                 0                 0                 0                 0   \n",
       "\n",
       "  ind_viv_fin_ult1 ind_nomina_ult1  ind_nom_pens_ult1  ind_recibo_ult1  \n",
       "0                0             0.0                0.0                0  \n",
       "1                0             0.0                0.0                0  \n",
       "2                0             0.0                0.0                0  \n",
       "3                0             0.0                0.0                0  \n",
       "4                0             0.0                0.0                0  \n",
       "\n",
       "[5 rows x 48 columns]"
      ]
     },
     "execution_count": 6,
     "metadata": {},
     "output_type": "execute_result"
    }
   ],
   "source": [
    "df.head()"
   ]
  },
  {
   "cell_type": "code",
   "execution_count": 25,
   "metadata": {},
   "outputs": [
    {
     "name": "stdout",
     "output_type": "stream",
     "text": [
      "<class 'pandas.core.frame.DataFrame'>\n",
      "RangeIndex: 13647309 entries, 0 to 13647308\n",
      "Data columns (total 48 columns):\n",
      " #   Column                 Dtype  \n",
      "---  ------                 -----  \n",
      " 0   fecha_dato             object \n",
      " 1   ncodpers               int64  \n",
      " 2   ind_empleado           object \n",
      " 3   pais_residencia        object \n",
      " 4   sexo                   object \n",
      " 5   age                    object \n",
      " 6   fecha_alta             object \n",
      " 7   ind_nuevo              float64\n",
      " 8   antiguedad             object \n",
      " 9   indrel                 float64\n",
      " 10  ult_fec_cli_1t         object \n",
      " 11  indrel_1mes            object \n",
      " 12  tiprel_1mes            object \n",
      " 13  indresi                object \n",
      " 14  indext                 object \n",
      " 15  conyuemp               object \n",
      " 16  canal_entrada          object \n",
      " 17  indfall                object \n",
      " 18  tipodom                float64\n",
      " 19  cod_prov               float64\n",
      " 20  nomprov                object \n",
      " 21  ind_actividad_cliente  float64\n",
      " 22  renta                  float64\n",
      " 23  segmento               object \n",
      " 24  ind_ahor_fin_ult1      int64  \n",
      " 25  ind_aval_fin_ult1      int64  \n",
      " 26  ind_cco_fin_ult1       int64  \n",
      " 27  ind_cder_fin_ult1      int64  \n",
      " 28  ind_cno_fin_ult1       int64  \n",
      " 29  ind_ctju_fin_ult1      int64  \n",
      " 30  ind_ctma_fin_ult1      int64  \n",
      " 31  ind_ctop_fin_ult1      int64  \n",
      " 32  ind_ctpp_fin_ult1      int64  \n",
      " 33  ind_deco_fin_ult1      int64  \n",
      " 34  ind_deme_fin_ult1      int64  \n",
      " 35  ind_dela_fin_ult1      int64  \n",
      " 36  ind_ecue_fin_ult1      int64  \n",
      " 37  ind_fond_fin_ult1      int64  \n",
      " 38  ind_hip_fin_ult1       int64  \n",
      " 39  ind_plan_fin_ult1      int64  \n",
      " 40  ind_pres_fin_ult1      int64  \n",
      " 41  ind_reca_fin_ult1      int64  \n",
      " 42  ind_tjcr_fin_ult1      int64  \n",
      " 43  ind_valo_fin_ult1      int64  \n",
      " 44  ind_viv_fin_ult1       int64  \n",
      " 45  ind_nomina_ult1        float64\n",
      " 46  ind_nom_pens_ult1      float64\n",
      " 47  ind_recibo_ult1        int64  \n",
      "dtypes: float64(8), int64(23), object(17)\n",
      "memory usage: 4.9+ GB\n"
     ]
    }
   ],
   "source": [
    "df.info()"
   ]
  },
  {
   "cell_type": "code",
   "execution_count": 17,
   "metadata": {},
   "outputs": [
    {
     "name": "stdout",
     "output_type": "stream",
     "text": [
      "Дубликатов: 0\n"
     ]
    }
   ],
   "source": [
    "print(f'Дубликатов: {df.duplicated().sum()}')"
   ]
  },
  {
   "cell_type": "code",
   "execution_count": 8,
   "metadata": {},
   "outputs": [
    {
     "data": {
      "text/html": [
       "<div>\n",
       "<style scoped>\n",
       "    .dataframe tbody tr th:only-of-type {\n",
       "        vertical-align: middle;\n",
       "    }\n",
       "\n",
       "    .dataframe tbody tr th {\n",
       "        vertical-align: top;\n",
       "    }\n",
       "\n",
       "    .dataframe thead th {\n",
       "        text-align: right;\n",
       "    }\n",
       "</style>\n",
       "<table border=\"1\" class=\"dataframe\">\n",
       "  <thead>\n",
       "    <tr style=\"text-align: right;\">\n",
       "      <th></th>\n",
       "      <th>ncodpers</th>\n",
       "      <th>ind_nuevo</th>\n",
       "      <th>indrel</th>\n",
       "      <th>tipodom</th>\n",
       "      <th>cod_prov</th>\n",
       "      <th>ind_actividad_cliente</th>\n",
       "      <th>renta</th>\n",
       "      <th>ind_ahor_fin_ult1</th>\n",
       "      <th>ind_aval_fin_ult1</th>\n",
       "      <th>ind_cco_fin_ult1</th>\n",
       "      <th>...</th>\n",
       "      <th>ind_hip_fin_ult1</th>\n",
       "      <th>ind_plan_fin_ult1</th>\n",
       "      <th>ind_pres_fin_ult1</th>\n",
       "      <th>ind_reca_fin_ult1</th>\n",
       "      <th>ind_tjcr_fin_ult1</th>\n",
       "      <th>ind_valo_fin_ult1</th>\n",
       "      <th>ind_viv_fin_ult1</th>\n",
       "      <th>ind_nomina_ult1</th>\n",
       "      <th>ind_nom_pens_ult1</th>\n",
       "      <th>ind_recibo_ult1</th>\n",
       "    </tr>\n",
       "  </thead>\n",
       "  <tbody>\n",
       "    <tr>\n",
       "      <th>count</th>\n",
       "      <td>1.364731e+07</td>\n",
       "      <td>1.361958e+07</td>\n",
       "      <td>1.361958e+07</td>\n",
       "      <td>13619574.0</td>\n",
       "      <td>1.355372e+07</td>\n",
       "      <td>1.361958e+07</td>\n",
       "      <td>1.085293e+07</td>\n",
       "      <td>1.364731e+07</td>\n",
       "      <td>1.364731e+07</td>\n",
       "      <td>1.364731e+07</td>\n",
       "      <td>...</td>\n",
       "      <td>1.364731e+07</td>\n",
       "      <td>1.364731e+07</td>\n",
       "      <td>1.364731e+07</td>\n",
       "      <td>1.364731e+07</td>\n",
       "      <td>1.364731e+07</td>\n",
       "      <td>1.364731e+07</td>\n",
       "      <td>1.364731e+07</td>\n",
       "      <td>1.363125e+07</td>\n",
       "      <td>1.363125e+07</td>\n",
       "      <td>1.364731e+07</td>\n",
       "    </tr>\n",
       "    <tr>\n",
       "      <th>mean</th>\n",
       "      <td>8.349042e+05</td>\n",
       "      <td>5.956184e-02</td>\n",
       "      <td>1.178399e+00</td>\n",
       "      <td>1.0</td>\n",
       "      <td>2.657147e+01</td>\n",
       "      <td>4.578105e-01</td>\n",
       "      <td>1.342543e+05</td>\n",
       "      <td>1.022912e-04</td>\n",
       "      <td>2.315475e-05</td>\n",
       "      <td>6.554837e-01</td>\n",
       "      <td>...</td>\n",
       "      <td>5.886582e-03</td>\n",
       "      <td>9.170965e-03</td>\n",
       "      <td>2.627404e-03</td>\n",
       "      <td>5.253636e-02</td>\n",
       "      <td>4.438868e-02</td>\n",
       "      <td>2.560761e-02</td>\n",
       "      <td>3.847718e-03</td>\n",
       "      <td>5.472434e-02</td>\n",
       "      <td>5.942854e-02</td>\n",
       "      <td>1.279162e-01</td>\n",
       "    </tr>\n",
       "    <tr>\n",
       "      <th>std</th>\n",
       "      <td>4.315650e+05</td>\n",
       "      <td>2.366733e-01</td>\n",
       "      <td>4.177469e+00</td>\n",
       "      <td>0.0</td>\n",
       "      <td>1.278402e+01</td>\n",
       "      <td>4.982169e-01</td>\n",
       "      <td>2.306202e+05</td>\n",
       "      <td>1.011340e-02</td>\n",
       "      <td>4.811883e-03</td>\n",
       "      <td>4.752103e-01</td>\n",
       "      <td>...</td>\n",
       "      <td>7.649791e-02</td>\n",
       "      <td>9.532502e-02</td>\n",
       "      <td>5.119083e-02</td>\n",
       "      <td>2.231060e-01</td>\n",
       "      <td>2.059571e-01</td>\n",
       "      <td>1.579616e-01</td>\n",
       "      <td>6.191053e-02</td>\n",
       "      <td>2.274414e-01</td>\n",
       "      <td>2.364250e-01</td>\n",
       "      <td>3.339965e-01</td>\n",
       "    </tr>\n",
       "    <tr>\n",
       "      <th>min</th>\n",
       "      <td>1.588900e+04</td>\n",
       "      <td>0.000000e+00</td>\n",
       "      <td>1.000000e+00</td>\n",
       "      <td>1.0</td>\n",
       "      <td>1.000000e+00</td>\n",
       "      <td>0.000000e+00</td>\n",
       "      <td>1.202730e+03</td>\n",
       "      <td>0.000000e+00</td>\n",
       "      <td>0.000000e+00</td>\n",
       "      <td>0.000000e+00</td>\n",
       "      <td>...</td>\n",
       "      <td>0.000000e+00</td>\n",
       "      <td>0.000000e+00</td>\n",
       "      <td>0.000000e+00</td>\n",
       "      <td>0.000000e+00</td>\n",
       "      <td>0.000000e+00</td>\n",
       "      <td>0.000000e+00</td>\n",
       "      <td>0.000000e+00</td>\n",
       "      <td>0.000000e+00</td>\n",
       "      <td>0.000000e+00</td>\n",
       "      <td>0.000000e+00</td>\n",
       "    </tr>\n",
       "    <tr>\n",
       "      <th>25%</th>\n",
       "      <td>4.528130e+05</td>\n",
       "      <td>0.000000e+00</td>\n",
       "      <td>1.000000e+00</td>\n",
       "      <td>1.0</td>\n",
       "      <td>1.500000e+01</td>\n",
       "      <td>0.000000e+00</td>\n",
       "      <td>6.871098e+04</td>\n",
       "      <td>0.000000e+00</td>\n",
       "      <td>0.000000e+00</td>\n",
       "      <td>0.000000e+00</td>\n",
       "      <td>...</td>\n",
       "      <td>0.000000e+00</td>\n",
       "      <td>0.000000e+00</td>\n",
       "      <td>0.000000e+00</td>\n",
       "      <td>0.000000e+00</td>\n",
       "      <td>0.000000e+00</td>\n",
       "      <td>0.000000e+00</td>\n",
       "      <td>0.000000e+00</td>\n",
       "      <td>0.000000e+00</td>\n",
       "      <td>0.000000e+00</td>\n",
       "      <td>0.000000e+00</td>\n",
       "    </tr>\n",
       "    <tr>\n",
       "      <th>50%</th>\n",
       "      <td>9.318930e+05</td>\n",
       "      <td>0.000000e+00</td>\n",
       "      <td>1.000000e+00</td>\n",
       "      <td>1.0</td>\n",
       "      <td>2.800000e+01</td>\n",
       "      <td>0.000000e+00</td>\n",
       "      <td>1.018500e+05</td>\n",
       "      <td>0.000000e+00</td>\n",
       "      <td>0.000000e+00</td>\n",
       "      <td>1.000000e+00</td>\n",
       "      <td>...</td>\n",
       "      <td>0.000000e+00</td>\n",
       "      <td>0.000000e+00</td>\n",
       "      <td>0.000000e+00</td>\n",
       "      <td>0.000000e+00</td>\n",
       "      <td>0.000000e+00</td>\n",
       "      <td>0.000000e+00</td>\n",
       "      <td>0.000000e+00</td>\n",
       "      <td>0.000000e+00</td>\n",
       "      <td>0.000000e+00</td>\n",
       "      <td>0.000000e+00</td>\n",
       "    </tr>\n",
       "    <tr>\n",
       "      <th>75%</th>\n",
       "      <td>1.199286e+06</td>\n",
       "      <td>0.000000e+00</td>\n",
       "      <td>1.000000e+00</td>\n",
       "      <td>1.0</td>\n",
       "      <td>3.500000e+01</td>\n",
       "      <td>1.000000e+00</td>\n",
       "      <td>1.559560e+05</td>\n",
       "      <td>0.000000e+00</td>\n",
       "      <td>0.000000e+00</td>\n",
       "      <td>1.000000e+00</td>\n",
       "      <td>...</td>\n",
       "      <td>0.000000e+00</td>\n",
       "      <td>0.000000e+00</td>\n",
       "      <td>0.000000e+00</td>\n",
       "      <td>0.000000e+00</td>\n",
       "      <td>0.000000e+00</td>\n",
       "      <td>0.000000e+00</td>\n",
       "      <td>0.000000e+00</td>\n",
       "      <td>0.000000e+00</td>\n",
       "      <td>0.000000e+00</td>\n",
       "      <td>0.000000e+00</td>\n",
       "    </tr>\n",
       "    <tr>\n",
       "      <th>max</th>\n",
       "      <td>1.553689e+06</td>\n",
       "      <td>1.000000e+00</td>\n",
       "      <td>9.900000e+01</td>\n",
       "      <td>1.0</td>\n",
       "      <td>5.200000e+01</td>\n",
       "      <td>1.000000e+00</td>\n",
       "      <td>2.889440e+07</td>\n",
       "      <td>1.000000e+00</td>\n",
       "      <td>1.000000e+00</td>\n",
       "      <td>1.000000e+00</td>\n",
       "      <td>...</td>\n",
       "      <td>1.000000e+00</td>\n",
       "      <td>1.000000e+00</td>\n",
       "      <td>1.000000e+00</td>\n",
       "      <td>1.000000e+00</td>\n",
       "      <td>1.000000e+00</td>\n",
       "      <td>1.000000e+00</td>\n",
       "      <td>1.000000e+00</td>\n",
       "      <td>1.000000e+00</td>\n",
       "      <td>1.000000e+00</td>\n",
       "      <td>1.000000e+00</td>\n",
       "    </tr>\n",
       "  </tbody>\n",
       "</table>\n",
       "<p>8 rows × 31 columns</p>\n",
       "</div>"
      ],
      "text/plain": [
       "           ncodpers     ind_nuevo        indrel     tipodom      cod_prov  \\\n",
       "count  1.364731e+07  1.361958e+07  1.361958e+07  13619574.0  1.355372e+07   \n",
       "mean   8.349042e+05  5.956184e-02  1.178399e+00         1.0  2.657147e+01   \n",
       "std    4.315650e+05  2.366733e-01  4.177469e+00         0.0  1.278402e+01   \n",
       "min    1.588900e+04  0.000000e+00  1.000000e+00         1.0  1.000000e+00   \n",
       "25%    4.528130e+05  0.000000e+00  1.000000e+00         1.0  1.500000e+01   \n",
       "50%    9.318930e+05  0.000000e+00  1.000000e+00         1.0  2.800000e+01   \n",
       "75%    1.199286e+06  0.000000e+00  1.000000e+00         1.0  3.500000e+01   \n",
       "max    1.553689e+06  1.000000e+00  9.900000e+01         1.0  5.200000e+01   \n",
       "\n",
       "       ind_actividad_cliente         renta  ind_ahor_fin_ult1  \\\n",
       "count           1.361958e+07  1.085293e+07       1.364731e+07   \n",
       "mean            4.578105e-01  1.342543e+05       1.022912e-04   \n",
       "std             4.982169e-01  2.306202e+05       1.011340e-02   \n",
       "min             0.000000e+00  1.202730e+03       0.000000e+00   \n",
       "25%             0.000000e+00  6.871098e+04       0.000000e+00   \n",
       "50%             0.000000e+00  1.018500e+05       0.000000e+00   \n",
       "75%             1.000000e+00  1.559560e+05       0.000000e+00   \n",
       "max             1.000000e+00  2.889440e+07       1.000000e+00   \n",
       "\n",
       "       ind_aval_fin_ult1  ind_cco_fin_ult1  ...  ind_hip_fin_ult1  \\\n",
       "count       1.364731e+07      1.364731e+07  ...      1.364731e+07   \n",
       "mean        2.315475e-05      6.554837e-01  ...      5.886582e-03   \n",
       "std         4.811883e-03      4.752103e-01  ...      7.649791e-02   \n",
       "min         0.000000e+00      0.000000e+00  ...      0.000000e+00   \n",
       "25%         0.000000e+00      0.000000e+00  ...      0.000000e+00   \n",
       "50%         0.000000e+00      1.000000e+00  ...      0.000000e+00   \n",
       "75%         0.000000e+00      1.000000e+00  ...      0.000000e+00   \n",
       "max         1.000000e+00      1.000000e+00  ...      1.000000e+00   \n",
       "\n",
       "       ind_plan_fin_ult1  ind_pres_fin_ult1  ind_reca_fin_ult1  \\\n",
       "count       1.364731e+07       1.364731e+07       1.364731e+07   \n",
       "mean        9.170965e-03       2.627404e-03       5.253636e-02   \n",
       "std         9.532502e-02       5.119083e-02       2.231060e-01   \n",
       "min         0.000000e+00       0.000000e+00       0.000000e+00   \n",
       "25%         0.000000e+00       0.000000e+00       0.000000e+00   \n",
       "50%         0.000000e+00       0.000000e+00       0.000000e+00   \n",
       "75%         0.000000e+00       0.000000e+00       0.000000e+00   \n",
       "max         1.000000e+00       1.000000e+00       1.000000e+00   \n",
       "\n",
       "       ind_tjcr_fin_ult1  ind_valo_fin_ult1  ind_viv_fin_ult1  \\\n",
       "count       1.364731e+07       1.364731e+07      1.364731e+07   \n",
       "mean        4.438868e-02       2.560761e-02      3.847718e-03   \n",
       "std         2.059571e-01       1.579616e-01      6.191053e-02   \n",
       "min         0.000000e+00       0.000000e+00      0.000000e+00   \n",
       "25%         0.000000e+00       0.000000e+00      0.000000e+00   \n",
       "50%         0.000000e+00       0.000000e+00      0.000000e+00   \n",
       "75%         0.000000e+00       0.000000e+00      0.000000e+00   \n",
       "max         1.000000e+00       1.000000e+00      1.000000e+00   \n",
       "\n",
       "       ind_nomina_ult1  ind_nom_pens_ult1  ind_recibo_ult1  \n",
       "count     1.363125e+07       1.363125e+07     1.364731e+07  \n",
       "mean      5.472434e-02       5.942854e-02     1.279162e-01  \n",
       "std       2.274414e-01       2.364250e-01     3.339965e-01  \n",
       "min       0.000000e+00       0.000000e+00     0.000000e+00  \n",
       "25%       0.000000e+00       0.000000e+00     0.000000e+00  \n",
       "50%       0.000000e+00       0.000000e+00     0.000000e+00  \n",
       "75%       0.000000e+00       0.000000e+00     0.000000e+00  \n",
       "max       1.000000e+00       1.000000e+00     1.000000e+00  \n",
       "\n",
       "[8 rows x 31 columns]"
      ]
     },
     "execution_count": 8,
     "metadata": {},
     "output_type": "execute_result"
    }
   ],
   "source": [
    "df.describe()"
   ]
  },
  {
   "cell_type": "code",
   "execution_count": 26,
   "metadata": {},
   "outputs": [
    {
     "name": "stdout",
     "output_type": "stream",
     "text": [
      "fecha_dato                      0\n",
      "ncodpers                        0\n",
      "ind_empleado                27734\n",
      "pais_residencia             27734\n",
      "sexo                        27804\n",
      "age                             0\n",
      "fecha_alta                  27734\n",
      "ind_nuevo                   27734\n",
      "antiguedad                      0\n",
      "indrel                      27734\n",
      "ult_fec_cli_1t           13622516\n",
      "indrel_1mes                149781\n",
      "tiprel_1mes                149781\n",
      "indresi                     27734\n",
      "indext                      27734\n",
      "conyuemp                 13645501\n",
      "canal_entrada              186126\n",
      "indfall                     27734\n",
      "tipodom                     27735\n",
      "cod_prov                    93591\n",
      "nomprov                     93591\n",
      "ind_actividad_cliente       27734\n",
      "renta                     2794375\n",
      "segmento                   189368\n",
      "ind_ahor_fin_ult1               0\n",
      "ind_aval_fin_ult1               0\n",
      "ind_cco_fin_ult1                0\n",
      "ind_cder_fin_ult1               0\n",
      "ind_cno_fin_ult1                0\n",
      "ind_ctju_fin_ult1               0\n",
      "ind_ctma_fin_ult1               0\n",
      "ind_ctop_fin_ult1               0\n",
      "ind_ctpp_fin_ult1               0\n",
      "ind_deco_fin_ult1               0\n",
      "ind_deme_fin_ult1               0\n",
      "ind_dela_fin_ult1               0\n",
      "ind_ecue_fin_ult1               0\n",
      "ind_fond_fin_ult1               0\n",
      "ind_hip_fin_ult1                0\n",
      "ind_plan_fin_ult1               0\n",
      "ind_pres_fin_ult1               0\n",
      "ind_reca_fin_ult1               0\n",
      "ind_tjcr_fin_ult1               0\n",
      "ind_valo_fin_ult1               0\n",
      "ind_viv_fin_ult1                0\n",
      "ind_nomina_ult1             16063\n",
      "ind_nom_pens_ult1           16063\n",
      "ind_recibo_ult1                 0\n",
      "dtype: int64\n"
     ]
    }
   ],
   "source": [
    "# Проверка пропущенных значений\n",
    "print(df.isnull().sum())\n"
   ]
  },
  {
   "cell_type": "markdown",
   "metadata": {},
   "source": [
    "Выделяются три переменные:\n",
    "\n",
    "- **conyuemp**:  Вероятно, не так много клиентов являются супругами сотрудников банка.\n",
    "- **ult_fec_cli_1t**: Эти данные представляют последнюю дату, когда клиент был премиальным. Это означает, что, вероятно, не так много клиентов переходят из категории премиальных в обычные.\n",
    "- **renta**: Пропущена примерно в 1/5 записей.\n",
    "\n",
    "Другие соответствующие выводы:\n",
    "\n",
    "- Продукты **ind_nomina_ult1** и **ind_nom_pens_ult1** имеют отсутствующие значения. Это странно и требует исследования. Почему значения NaN вместо 0?\n",
    "- получается значения первых двух полей есть только для 13647308-13622516 = 24792, 24792/13647308 < 1 %\n",
    "\n"
   ]
  },
  {
   "cell_type": "code",
   "execution_count": 5,
   "metadata": {},
   "outputs": [],
   "source": [
    "for col in ['ult_fec_cli_1t', 'conyuemp']:\n",
    "    del df[col]\n",
    "df = df.dropna()"
   ]
  },
  {
   "cell_type": "code",
   "execution_count": 6,
   "metadata": {},
   "outputs": [],
   "source": [
    "df['age'] = pd.to_numeric(df['age'])\n",
    "df['antiguedad'] = pd.to_numeric(df['antiguedad'])"
   ]
  },
  {
   "cell_type": "code",
   "execution_count": 7,
   "metadata": {},
   "outputs": [
    {
     "data": {
      "text/plain": [
       "(10795392, 46)"
      ]
     },
     "execution_count": 7,
     "metadata": {},
     "output_type": "execute_result"
    }
   ],
   "source": [
    "df.shape"
   ]
  },
  {
   "cell_type": "code",
   "execution_count": 7,
   "metadata": {},
   "outputs": [],
   "source": [
    "num_columns = ['age', 'antiguedad', \"renta\"]\n",
    "boolean_vars = ['indfall', 'ind_actividad_cliente', 'ind_nuevo', 'indresi', 'indext', 'tipodom']\n",
    "varchar_vars = ['cod_prov', 'nomprov', 'pais_residencia', 'ncodpers']\n",
    "categorical_vars = ['segmento', 'ind_empleado', 'sexo', 'indrel', \n",
    "                    'indrel_1mes', 'tiprel_1mes', 'canal_entrada', 'nomprov']"
   ]
  },
  {
   "cell_type": "code",
   "execution_count": 28,
   "metadata": {},
   "outputs": [
    {
     "data": {
      "text/html": [
       "<div>\n",
       "<style scoped>\n",
       "    .dataframe tbody tr th:only-of-type {\n",
       "        vertical-align: middle;\n",
       "    }\n",
       "\n",
       "    .dataframe tbody tr th {\n",
       "        vertical-align: top;\n",
       "    }\n",
       "\n",
       "    .dataframe thead th {\n",
       "        text-align: right;\n",
       "    }\n",
       "</style>\n",
       "<table border=\"1\" class=\"dataframe\">\n",
       "  <thead>\n",
       "    <tr style=\"text-align: right;\">\n",
       "      <th></th>\n",
       "      <th>age</th>\n",
       "      <th>antiguedad</th>\n",
       "      <th>renta</th>\n",
       "    </tr>\n",
       "  </thead>\n",
       "  <tbody>\n",
       "    <tr>\n",
       "      <th>count</th>\n",
       "      <td>1.079539e+07</td>\n",
       "      <td>1.079539e+07</td>\n",
       "      <td>1.079539e+07</td>\n",
       "    </tr>\n",
       "    <tr>\n",
       "      <th>mean</th>\n",
       "      <td>4.079908e+01</td>\n",
       "      <td>8.059039e+01</td>\n",
       "      <td>1.342530e+05</td>\n",
       "    </tr>\n",
       "    <tr>\n",
       "      <th>std</th>\n",
       "      <td>1.720140e+01</td>\n",
       "      <td>1.776059e+03</td>\n",
       "      <td>2.308596e+05</td>\n",
       "    </tr>\n",
       "    <tr>\n",
       "      <th>min</th>\n",
       "      <td>2.000000e+00</td>\n",
       "      <td>-9.999990e+05</td>\n",
       "      <td>1.202730e+03</td>\n",
       "    </tr>\n",
       "    <tr>\n",
       "      <th>25%</th>\n",
       "      <td>2.500000e+01</td>\n",
       "      <td>2.600000e+01</td>\n",
       "      <td>6.871686e+04</td>\n",
       "    </tr>\n",
       "    <tr>\n",
       "      <th>50%</th>\n",
       "      <td>4.000000e+01</td>\n",
       "      <td>5.500000e+01</td>\n",
       "      <td>1.018585e+05</td>\n",
       "    </tr>\n",
       "    <tr>\n",
       "      <th>75%</th>\n",
       "      <td>5.100000e+01</td>\n",
       "      <td>1.410000e+02</td>\n",
       "      <td>1.559678e+05</td>\n",
       "    </tr>\n",
       "    <tr>\n",
       "      <th>max</th>\n",
       "      <td>1.270000e+02</td>\n",
       "      <td>2.560000e+02</td>\n",
       "      <td>2.889440e+07</td>\n",
       "    </tr>\n",
       "  </tbody>\n",
       "</table>\n",
       "</div>"
      ],
      "text/plain": [
       "                age    antiguedad         renta\n",
       "count  1.079539e+07  1.079539e+07  1.079539e+07\n",
       "mean   4.079908e+01  8.059039e+01  1.342530e+05\n",
       "std    1.720140e+01  1.776059e+03  2.308596e+05\n",
       "min    2.000000e+00 -9.999990e+05  1.202730e+03\n",
       "25%    2.500000e+01  2.600000e+01  6.871686e+04\n",
       "50%    4.000000e+01  5.500000e+01  1.018585e+05\n",
       "75%    5.100000e+01  1.410000e+02  1.559678e+05\n",
       "max    1.270000e+02  2.560000e+02  2.889440e+07"
      ]
     },
     "execution_count": 28,
     "metadata": {},
     "output_type": "execute_result"
    }
   ],
   "source": [
    "df[num_columns].describe()"
   ]
  },
  {
   "cell_type": "code",
   "execution_count": 8,
   "metadata": {},
   "outputs": [],
   "source": [
    "df = df[df[\"antiguedad\"]>0]"
   ]
  },
  {
   "cell_type": "code",
   "execution_count": 9,
   "metadata": {},
   "outputs": [
    {
     "data": {
      "image/png": "[encoded data removed]",
      "text/plain": [
       "<Figure size 1200x600 with 2 Axes>"
      ]
     },
     "metadata": {},
     "output_type": "display_data"
    },
    {
     "data": {
      "image/png": "[encoded data removed]",
      "text/plain": [
       "<Figure size 1200x600 with 2 Axes>"
      ]
     },
     "metadata": {},
     "output_type": "display_data"
    },
    {
     "data": {
      "image/png": "[encoded data removed]",
      "text/plain": [
       "<Figure size 1200x600 with 2 Axes>"
      ]
     },
     "metadata": {},
     "output_type": "display_data"
    }
   ],
   "source": [
    "#### Построение гистограмм и ящиков с усами (box plots)\n",
    "\n",
    "# Настройка стиля графиков\n",
    "sns.set(style=\"whitegrid\")\n",
    "\n",
    "# Функция для построения гистограмм и ящиков с усами\n",
    "def plot_distribution(df, column, title):\n",
    "    plt.figure(figsize=(12, 6))\n",
    "    \n",
    "    # Гистограмма\n",
    "    plt.subplot(1, 2, 1)\n",
    "    sns.histplot(df[column], kde=True, bins=30)\n",
    "    plt.title(f'Гистограмма {title}')\n",
    "    \n",
    "    # Ящик с усами\n",
    "    plt.subplot(1, 2, 2)\n",
    "    sns.boxplot(x=df[column])\n",
    "    plt.title(f'Ящик с усами {title}')\n",
    "    \n",
    "    plt.show()\n",
    "\n",
    "# Построение графиков для 'age'\n",
    "plot_distribution(df, 'age', 'возраста')\n",
    "\n",
    "# Построение графиков для 'antiguedad'\n",
    "plot_distribution(df, 'antiguedad', 'стажа')\n",
    "\n",
    "# Построение графиков для 'renta'\n",
    "plot_distribution(df, 'renta', 'дохода')\n",
    "\n",
    "\n"
   ]
  },
  {
   "cell_type": "code",
   "execution_count": 10,
   "metadata": {},
   "outputs": [
    {
     "name": "stderr",
     "output_type": "stream",
     "text": [
      "/tmp/ipykernel_3843/1992149072.py:6: FutureWarning: \n",
      "\n",
      "`shade` is now deprecated in favor of `fill`; setting `fill=True`.\n",
      "This will become an error in seaborn v0.14.0; please update your code.\n",
      "\n",
      "  sns.kdeplot(df[column], shade=True)\n"
     ]
    },
    {
     "data": {
      "image/png": "[encoded data removed]",
      "text/plain": [
       "<Figure size 1200x600 with 1 Axes>"
      ]
     },
     "metadata": {},
     "output_type": "display_data"
    },
    {
     "name": "stderr",
     "output_type": "stream",
     "text": [
      "/tmp/ipykernel_3843/1992149072.py:6: FutureWarning: \n",
      "\n",
      "`shade` is now deprecated in favor of `fill`; setting `fill=True`.\n",
      "This will become an error in seaborn v0.14.0; please update your code.\n",
      "\n",
      "  sns.kdeplot(df[column], shade=True)\n"
     ]
    },
    {
     "data": {
      "image/png": "[encoded data removed]",
      "text/plain": [
       "<Figure size 1200x600 with 1 Axes>"
      ]
     },
     "metadata": {},
     "output_type": "display_data"
    },
    {
     "name": "stderr",
     "output_type": "stream",
     "text": [
      "/tmp/ipykernel_3843/1992149072.py:6: FutureWarning: \n",
      "\n",
      "`shade` is now deprecated in favor of `fill`; setting `fill=True`.\n",
      "This will become an error in seaborn v0.14.0; please update your code.\n",
      "\n",
      "  sns.kdeplot(df[column], shade=True)\n"
     ]
    },
    {
     "data": {
      "image/png": "[encoded data removed]",
      "text/plain": [
       "<Figure size 1200x600 with 1 Axes>"
      ]
     },
     "metadata": {},
     "output_type": "display_data"
    }
   ],
   "source": [
    "#### Построение плотностей распределения (density plots)\n",
    "\n",
    "# Построение плотностей распределения\n",
    "def plot_density(df, column, title):\n",
    "    plt.figure(figsize=(12, 6))\n",
    "    sns.kdeplot(df[column], shade=True)\n",
    "    plt.title(f'Плотность распределения {title}')\n",
    "    plt.show()\n",
    "\n",
    "# Построение плотностей распределения для 'age'\n",
    "plot_density(df, 'age', 'возраста')\n",
    "\n",
    "# Построение плотностей распределения для 'antiguedad'\n",
    "plot_density(df, 'antiguedad', 'стажа')\n",
    "\n",
    "# Построение плотностей распределения для 'renta'\n",
    "plot_density(df, 'renta', 'дохода')"
   ]
  },
  {
   "cell_type": "code",
   "execution_count": 64,
   "metadata": {},
   "outputs": [
    {
     "data": {
      "text/html": [
       "<div>\n",
       "<style scoped>\n",
       "    .dataframe tbody tr th:only-of-type {\n",
       "        vertical-align: middle;\n",
       "    }\n",
       "\n",
       "    .dataframe tbody tr th {\n",
       "        vertical-align: top;\n",
       "    }\n",
       "\n",
       "    .dataframe thead th {\n",
       "        text-align: right;\n",
       "    }\n",
       "</style>\n",
       "<table border=\"1\" class=\"dataframe\">\n",
       "  <thead>\n",
       "    <tr style=\"text-align: right;\">\n",
       "      <th></th>\n",
       "      <th>age</th>\n",
       "      <th>antiguedad</th>\n",
       "      <th>renta</th>\n",
       "    </tr>\n",
       "  </thead>\n",
       "  <tbody>\n",
       "    <tr>\n",
       "      <th>count</th>\n",
       "      <td>1.079533e+07</td>\n",
       "      <td>1.079533e+07</td>\n",
       "      <td>1.079533e+07</td>\n",
       "    </tr>\n",
       "    <tr>\n",
       "      <th>mean</th>\n",
       "      <td>4.079904e+01</td>\n",
       "      <td>8.374039e+01</td>\n",
       "      <td>1.342529e+05</td>\n",
       "    </tr>\n",
       "    <tr>\n",
       "      <th>std</th>\n",
       "      <td>1.720139e+01</td>\n",
       "      <td>6.618402e+01</td>\n",
       "      <td>2.308602e+05</td>\n",
       "    </tr>\n",
       "    <tr>\n",
       "      <th>min</th>\n",
       "      <td>2.000000e+00</td>\n",
       "      <td>1.000000e+00</td>\n",
       "      <td>1.202730e+03</td>\n",
       "    </tr>\n",
       "    <tr>\n",
       "      <th>25%</th>\n",
       "      <td>2.500000e+01</td>\n",
       "      <td>2.600000e+01</td>\n",
       "      <td>6.871686e+04</td>\n",
       "    </tr>\n",
       "    <tr>\n",
       "      <th>50%</th>\n",
       "      <td>4.000000e+01</td>\n",
       "      <td>5.500000e+01</td>\n",
       "      <td>1.018571e+05</td>\n",
       "    </tr>\n",
       "    <tr>\n",
       "      <th>75%</th>\n",
       "      <td>5.100000e+01</td>\n",
       "      <td>1.410000e+02</td>\n",
       "      <td>1.559675e+05</td>\n",
       "    </tr>\n",
       "    <tr>\n",
       "      <th>max</th>\n",
       "      <td>1.270000e+02</td>\n",
       "      <td>2.560000e+02</td>\n",
       "      <td>2.889440e+07</td>\n",
       "    </tr>\n",
       "  </tbody>\n",
       "</table>\n",
       "</div>"
      ],
      "text/plain": [
       "                age    antiguedad         renta\n",
       "count  1.079533e+07  1.079533e+07  1.079533e+07\n",
       "mean   4.079904e+01  8.374039e+01  1.342529e+05\n",
       "std    1.720139e+01  6.618402e+01  2.308602e+05\n",
       "min    2.000000e+00  1.000000e+00  1.202730e+03\n",
       "25%    2.500000e+01  2.600000e+01  6.871686e+04\n",
       "50%    4.000000e+01  5.500000e+01  1.018571e+05\n",
       "75%    5.100000e+01  1.410000e+02  1.559675e+05\n",
       "max    1.270000e+02  2.560000e+02  2.889440e+07"
      ]
     },
     "execution_count": 64,
     "metadata": {},
     "output_type": "execute_result"
    }
   ],
   "source": [
    "df[num_columns].describe()"
   ]
  },
  {
   "cell_type": "code",
   "execution_count": 31,
   "metadata": {},
   "outputs": [
    {
     "name": "stdout",
     "output_type": "stream",
     "text": [
      "indfall\n",
      "N    10768191\n",
      "S       27201\n",
      "Name: count, dtype: int64\n",
      "ind_actividad_cliente\n",
      "0.0    5717341\n",
      "1.0    5078051\n",
      "Name: count, dtype: int64\n",
      "ind_nuevo\n",
      "0.0    10537444\n",
      "1.0      257948\n",
      "Name: count, dtype: int64\n",
      "indresi\n",
      "S    10795309\n",
      "N          83\n",
      "Name: count, dtype: int64\n",
      "indext\n",
      "N    10330070\n",
      "S      465322\n",
      "Name: count, dtype: int64\n",
      "tipodom\n",
      "1.0    10795392\n",
      "Name: count, dtype: int64\n"
     ]
    }
   ],
   "source": [
    "for var in boolean_vars:\n",
    "    print(df[var].value_counts())"
   ]
  },
  {
   "cell_type": "markdown",
   "metadata": {},
   "source": [
    "### Важные замечания:\n",
    "\n",
    "1. **Все флаги основного адреса имеют значение True (tipodom)**. Этот столбец можно исключить.\n",
    "2. **Большинство булевых переменных сильно смещены в сторону либо S (да), либо N (нет)**. Это относится к следующим переменным: ind_nuevo (новый клиент или нет), indresi (живет в стране или нет), indext (иностранец или нет). Эти признаки вряд ли будут полезны.\n",
    "3. **Только 40% клиентов активны**. Я предполагаю, что неактивные клиенты не будут приобретать новые продукты, поэтому можно использовать простую эвристику в классификации на первом этапе. Также стоит включить в эту эвристику умерших клиентов, хотя умершие клиенты, вероятно, уже неактивны.\n",
    "4. **Не все значения равны 0 или 1, некоторые помечены как S/N**. Эти значения можно преобразовать в 0 или 1.\n"
   ]
  },
  {
   "cell_type": "code",
   "execution_count": 33,
   "metadata": {},
   "outputs": [],
   "source": [
    "for col in ['indresi', 'indext', 'indfall']:\n",
    "    df[col] = df[col].map({'S': 1, 'N': 0})"
   ]
  },
  {
   "cell_type": "code",
   "execution_count": 39,
   "metadata": {},
   "outputs": [],
   "source": [
    "columns_to_remove = ['tipodom']"
   ]
  },
  {
   "cell_type": "code",
   "execution_count": 37,
   "metadata": {},
   "outputs": [
    {
     "name": "stdout",
     "output_type": "stream",
     "text": [
      "cod_prov\n",
      "28.0    3904715\n",
      "8.0     1066011\n",
      "46.0     548857\n",
      "41.0     513509\n",
      "15.0     310356\n",
      "         ...   \n",
      "16.0      44191\n",
      "34.0      39891\n",
      "49.0      37633\n",
      "40.0      33462\n",
      "5.0       31002\n",
      "Name: count, Length: 43, dtype: int64\n",
      "\n",
      "nomprov\n",
      "MADRID       3904715\n",
      "BARCELONA    1066011\n",
      "VALENCIA      548857\n",
      "SEVILLA       513509\n",
      "CORUÑA, A     310356\n",
      "Name: count, dtype: int64\n",
      "\n",
      "pais_residencia\n",
      "ES    10795309\n",
      "IT          33\n",
      "DE          17\n",
      "BO          17\n",
      "PY          16\n",
      "Name: count, dtype: int64\n",
      "\n",
      "ncodpers\n",
      "538023    17\n",
      "538024    17\n",
      "538108    17\n",
      "538034    17\n",
      "538029    17\n",
      "Name: count, dtype: int64\n",
      "\n"
     ]
    },
    {
     "name": "stderr",
     "output_type": "stream",
     "text": [
      "/tmp/ipykernel_3401/3855029329.py:2: FutureWarning: The behavior of obj[i:j] with a float-dtype index is deprecated. In a future version, this will be treated as positional instead of label-based. For label-based slicing, use obj.loc[i:j] instead\n",
      "  print(df[elem].value_counts()[:5])\n"
     ]
    }
   ],
   "source": [
    "for elem in varchar_vars:\n",
    "    print(df[elem].value_counts()[:5])\n",
    "    print()"
   ]
  },
  {
   "cell_type": "code",
   "execution_count": 38,
   "metadata": {},
   "outputs": [
    {
     "data": {
      "text/plain": [
       "52"
      ]
     },
     "execution_count": 38,
     "metadata": {},
     "output_type": "execute_result"
    }
   ],
   "source": [
    "df['cod_prov'].value_counts().count() #52 провинции "
   ]
  },
  {
   "cell_type": "markdown",
   "metadata": {},
   "source": [
    "Существуют 33 различных страны, однако данные очень разрежены: более 99% сконцентрированы в Испании. Это уже представлено в виде булевых переменных, указывающих, является ли клиент иностранцем или живет ли он за границей. Поэтому информация о стране проживания в текущем виде может быть не столь полезной для общей классификационной задачи. Однако, если обучить отдельный классификатор для иностранцев, эта переменная может оказаться более значимой. На данный момент я удалю этот столбец.\n",
    "\n",
    "Провинции обозначены как именованные переменные. Для упрощения можно удалить эти столбцы. Однако я сохраню столбец с именем провинции, чтобы в дальнейшем иметь возможность сопоставить результаты с конкретными провинциями."
   ]
  },
  {
   "cell_type": "code",
   "execution_count": 40,
   "metadata": {},
   "outputs": [],
   "source": [
    "for col in ['cod_prov', 'pais_residencia', 'ncodpers']:\n",
    "    columns_to_remove.append(col)"
   ]
  },
  {
   "cell_type": "code",
   "execution_count": 43,
   "metadata": {},
   "outputs": [
    {
     "name": "stdout",
     "output_type": "stream",
     "text": [
      "segmento\n",
      "02 - PARTICULARES     6522333\n",
      "03 - UNIVERSITARIO    3793390\n",
      "01 - TOP               479669\n",
      "Name: count, dtype: int64\n",
      "\n",
      "ind_empleado\n",
      "N    10787575\n",
      "B        3198\n",
      "F        2308\n",
      "A        2294\n",
      "S          17\n",
      "Name: count, dtype: int64\n",
      "\n",
      "sexo\n",
      "V    5913941\n",
      "H    4881451\n",
      "Name: count, dtype: int64\n",
      "\n",
      "indrel\n",
      "1.0    10787922\n",
      "Name: count, dtype: int64\n",
      "\n"
     ]
    },
    {
     "name": "stderr",
     "output_type": "stream",
     "text": [
      "/tmp/ipykernel_3401/543666827.py:2: FutureWarning: The behavior of obj[i:j] with a float-dtype index is deprecated. In a future version, this will be treated as positional instead of label-based. For label-based slicing, use obj.loc[i:j] instead\n",
      "  print(df[elem].value_counts()[:5])\n"
     ]
    },
    {
     "name": "stdout",
     "output_type": "stream",
     "text": [
      "indrel_1mes\n",
      "1.0    5997093\n",
      "1.0    3134760\n",
      "1      1663516\n",
      "3.0          9\n",
      "3.0          9\n",
      "Name: count, dtype: int64\n",
      "\n",
      "tiprel_1mes\n",
      "I    5783820\n",
      "A    5011549\n",
      "P         23\n",
      "Name: count, dtype: int64\n",
      "\n",
      "canal_entrada\n",
      "KHE    3306976\n",
      "KAT    2754329\n",
      "KFC    2581692\n",
      "KFA     358123\n",
      "KHQ     240917\n",
      "Name: count, dtype: int64\n",
      "\n",
      "nomprov\n",
      "MADRID       3904715\n",
      "BARCELONA    1066011\n",
      "VALENCIA      548857\n",
      "SEVILLA       513509\n",
      "CORUÑA, A     310356\n",
      "Name: count, dtype: int64\n",
      "\n"
     ]
    }
   ],
   "source": [
    "for elem in categorical_vars:\n",
    "    print(df[elem].value_counts()[:5])\n",
    "    print()"
   ]
  },
  {
   "cell_type": "markdown",
   "metadata": {},
   "source": [
    "### Примечания:\n",
    "\n",
    "- **ind_empleado** содержит только значение \"N\", что означает, что клиент не является сотрудником. Если этот паттерн сохраняется во всем наборе данных, этот столбец можно удалить.\n",
    "- **indrel** также все имеют значение 1 (первичный клиент). Неясно из описания, является ли это булевой переменной (было бы булевой, если бы 1 и 99 были единственными возможностями). Нужно проверить весь набор данных.\n",
    "- **indrel_1mes** (тип клиента в начале месяца) в основном равен 1 (первичный клиент). Только 3 записи имеют значение 3 (бывший первичный клиент). Этот столбец не кажется релевантным.\n",
    "- **tiprel_1mes** в основном делится на активных и неактивных клиентов, с тремя бывшими клиентами, вероятно, это те же три записи, что и в **indrel_1mes**. Если эти данные коррелируют с булевой переменной **ind_actividad_cliente**, их можно удалить.\n",
    "- **Segmento**, **sexo**, **canal_entrada** и **nomprov** кажутся хорошими переменными для различения клиентов.\n"
   ]
  },
  {
   "cell_type": "code",
   "execution_count": 51,
   "metadata": {},
   "outputs": [
    {
     "data": {
      "text/plain": [
       "ind_actividad_cliente  tiprel_1mes\n",
       "0.0                    A               423277\n",
       "                       I              5294056\n",
       "                       P                    8\n",
       "1.0                    A              4588272\n",
       "                       I               489764\n",
       "                       P                   15\n",
       "dtype: int64"
      ]
     },
     "execution_count": 51,
     "metadata": {},
     "output_type": "execute_result"
    }
   ],
   "source": [
    "# проверим корреляцию между indrel_1Mes и ind_actividad_cliente\n",
    "pd.pivot_table(df[['ind_actividad_cliente', 'tiprel_1mes']], index= ['ind_actividad_cliente', 'tiprel_1mes'],\n",
    "             aggfunc=len)"
   ]
  },
  {
   "cell_type": "code",
   "execution_count": 52,
   "metadata": {},
   "outputs": [],
   "source": [
    "# one hot encode\n",
    "categorical_vars = ['segmento', 'sexo', 'tiprel_1mes', 'canal_entrada', 'nomprov']\n",
    "\n",
    "df = pd.get_dummies(df, prefix=None, prefix_sep='_', dummy_na=False, \n",
    "                   columns=categorical_vars, sparse=False, drop_first=False)"
   ]
  },
  {
   "cell_type": "code",
   "execution_count": 55,
   "metadata": {},
   "outputs": [
    {
     "data": {
      "text/plain": [
       "24"
      ]
     },
     "execution_count": 55,
     "metadata": {},
     "output_type": "execute_result"
    }
   ],
   "source": [
    "# отделим labels\n",
    "labels = []\n",
    "for col in df.columns:\n",
    "    if col[:4] == 'ind_' and col[-4:] == 'ult1':\n",
    "        labels.append(col)\n",
    "len(labels)"
   ]
  },
  {
   "cell_type": "code",
   "execution_count": 56,
   "metadata": {},
   "outputs": [
    {
     "data": {
      "text/plain": [
       "['ind_ahor_fin_ult1',\n",
       " 'ind_aval_fin_ult1',\n",
       " 'ind_cco_fin_ult1',\n",
       " 'ind_cder_fin_ult1',\n",
       " 'ind_cno_fin_ult1',\n",
       " 'ind_ctju_fin_ult1',\n",
       " 'ind_ctma_fin_ult1',\n",
       " 'ind_ctop_fin_ult1',\n",
       " 'ind_ctpp_fin_ult1',\n",
       " 'ind_deco_fin_ult1',\n",
       " 'ind_deme_fin_ult1',\n",
       " 'ind_dela_fin_ult1',\n",
       " 'ind_ecue_fin_ult1',\n",
       " 'ind_fond_fin_ult1',\n",
       " 'ind_hip_fin_ult1',\n",
       " 'ind_plan_fin_ult1',\n",
       " 'ind_pres_fin_ult1',\n",
       " 'ind_reca_fin_ult1',\n",
       " 'ind_tjcr_fin_ult1',\n",
       " 'ind_valo_fin_ult1',\n",
       " 'ind_viv_fin_ult1',\n",
       " 'ind_nomina_ult1',\n",
       " 'ind_nom_pens_ult1',\n",
       " 'ind_recibo_ult1']"
      ]
     },
     "execution_count": 56,
     "metadata": {},
     "output_type": "execute_result"
    }
   ],
   "source": [
    "labels"
   ]
  },
  {
   "cell_type": "markdown",
   "metadata": {},
   "source": [
    "## По итогу анализа: преобразуем немного данные, разобьем на трейн и тест , и подправим трейн"
   ]
  },
  {
   "cell_type": "code",
   "execution_count": 11,
   "metadata": {},
   "outputs": [],
   "source": [
    "del df "
   ]
  },
  {
   "cell_type": "code",
   "execution_count": 3,
   "metadata": {},
   "outputs": [
    {
     "name": "stderr",
     "output_type": "stream",
     "text": [
      "/tmp/ipykernel_3287/795805494.py:1: DtypeWarning: Columns (5,8,11,15) have mixed types. Specify dtype option on import or set low_memory=False.\n",
      "  df = pd.read_csv(os.path.join(DATA, \"raw\", \"train_ver2.csv\"))\n"
     ]
    },
    {
     "ename": "",
     "evalue": "",
     "output_type": "error",
     "traceback": [
      "\u001b[1;31mThe Kernel crashed while executing code in the current cell or a previous cell. \n",
      "\u001b[1;31mPlease review the code in the cell(s) to identify a possible cause of the failure. \n",
      "\u001b[1;31mClick <a href='https://aka.ms/vscodeJupyterKernelCrash'>here</a> for more info. \n",
      "\u001b[1;31mView Jupyter <a href='command:jupyter.viewOutput'>log</a> for further details."
     ]
    }
   ],
   "source": [
    "\n",
    "df = pd.read_csv(os.path.join(DATA, \"raw\", \"train_ver2.csv\"))\n"
   ]
  },
  {
   "cell_type": "code",
   "execution_count": 4,
   "metadata": {},
   "outputs": [],
   "source": [
    "\n",
    "df['age'] = pd.to_numeric(df['age'],errors='coerce')\n",
    "df['antiguedad'] = pd.to_numeric(df['antiguedad'],errors='coerce')\n",
    "for col in ['indresi', 'indext', 'indfall', 'conyuemp']:\n",
    "    df[col] = df[col].map({'S': 1, 'N': 0})"
   ]
  },
  {
   "cell_type": "code",
   "execution_count": 5,
   "metadata": {},
   "outputs": [],
   "source": [
    "train_df = df[df['fecha_dato'] < '2016-01-01']\n",
    "test_df = df[df['fecha_dato'] >= '2016-01-01']"
   ]
  },
  {
   "cell_type": "code",
   "execution_count": 6,
   "metadata": {},
   "outputs": [
    {
     "name": "stderr",
     "output_type": "stream",
     "text": [
      "/tmp/ipykernel_3329/4057913772.py:2: SettingWithCopyWarning: \n",
      "A value is trying to be set on a copy of a slice from a DataFrame\n",
      "\n",
      "See the caveats in the documentation: https://pandas.pydata.org/pandas-docs/stable/user_guide/indexing.html#returning-a-view-versus-a-copy\n",
      "  test_df['tiprel_1mes'].replace(['N', 'R'], np.nan, inplace=True)\n"
     ]
    }
   ],
   "source": [
    "# Таких значений нет в трейне и сумарно их окол 200\n",
    "test_df['tiprel_1mes'].replace(['N', 'R'], np.nan, inplace=True)"
   ]
  },
  {
   "cell_type": "code",
   "execution_count": 7,
   "metadata": {},
   "outputs": [],
   "source": [
    "test_df.to_csv(os.path.join(DATA, \"processed\", \"test.csv\"))\n",
    "train_df.to_csv(os.path.join(DATA, \"processed\", \"train.csv\"))"
   ]
  },
  {
   "cell_type": "code",
   "execution_count": 8,
   "metadata": {},
   "outputs": [
    {
     "data": {
      "text/plain": [
       "((9025333, 48), (4621976, 48))"
      ]
     },
     "execution_count": 8,
     "metadata": {},
     "output_type": "execute_result"
    }
   ],
   "source": [
    "(train_df.shape, test_df.shape)"
   ]
  },
  {
   "cell_type": "code",
   "execution_count": 14,
   "metadata": {},
   "outputs": [
    {
     "ename": "NameError",
     "evalue": "name 'test_df' is not defined",
     "output_type": "error",
     "traceback": [
      "\u001b[0;31m---------------------------------------------------------------------------\u001b[0m",
      "\u001b[0;31mNameError\u001b[0m                                 Traceback (most recent call last)",
      "Cell \u001b[0;32mIn[14], line 2\u001b[0m\n\u001b[1;32m      1\u001b[0m \u001b[38;5;28;01mdel\u001b[39;00m train_df\n\u001b[0;32m----> 2\u001b[0m \u001b[38;5;28;01mdel\u001b[39;00m test_df\n",
      "\u001b[0;31mNameError\u001b[0m: name 'test_df' is not defined"
     ]
    }
   ],
   "source": [
    "del train_df\n",
    "del test_df"
   ]
  },
  {
   "cell_type": "markdown",
   "metadata": {},
   "source": [
    "### Очистка трейна"
   ]
  },
  {
   "cell_type": "code",
   "execution_count": 4,
   "metadata": {},
   "outputs": [
    {
     "name": "stderr",
     "output_type": "stream",
     "text": [
      "/tmp/ipykernel_2707/3679654571.py:1: DtypeWarning: Columns (12) have mixed types. Specify dtype option on import or set low_memory=False.\n",
      "  train_df = pd.read_csv(os.path.join(DATA, \"processed\", \"train.csv\"))\n"
     ]
    }
   ],
   "source": [
    "train_df = pd.read_csv(os.path.join(DATA, \"processed\", \"train.csv\"))"
   ]
  },
  {
   "cell_type": "code",
   "execution_count": 19,
   "metadata": {},
   "outputs": [
    {
     "data": {
      "text/html": [
       "<div>\n",
       "<style scoped>\n",
       "    .dataframe tbody tr th:only-of-type {\n",
       "        vertical-align: middle;\n",
       "    }\n",
       "\n",
       "    .dataframe tbody tr th {\n",
       "        vertical-align: top;\n",
       "    }\n",
       "\n",
       "    .dataframe thead th {\n",
       "        text-align: right;\n",
       "    }\n",
       "</style>\n",
       "<table border=\"1\" class=\"dataframe\">\n",
       "  <thead>\n",
       "    <tr style=\"text-align: right;\">\n",
       "      <th></th>\n",
       "      <th>Unnamed: 0</th>\n",
       "      <th>ncodpers</th>\n",
       "      <th>ind_empleado</th>\n",
       "      <th>sexo</th>\n",
       "      <th>age</th>\n",
       "      <th>fecha_alta</th>\n",
       "      <th>ind_nuevo</th>\n",
       "      <th>antiguedad</th>\n",
       "      <th>indrel</th>\n",
       "      <th>indrel_1mes</th>\n",
       "      <th>...</th>\n",
       "      <th>ind_hip_fin_ult1</th>\n",
       "      <th>ind_plan_fin_ult1</th>\n",
       "      <th>ind_pres_fin_ult1</th>\n",
       "      <th>ind_reca_fin_ult1</th>\n",
       "      <th>ind_tjcr_fin_ult1</th>\n",
       "      <th>ind_valo_fin_ult1</th>\n",
       "      <th>ind_viv_fin_ult1</th>\n",
       "      <th>ind_nomina_ult1</th>\n",
       "      <th>ind_nom_pens_ult1</th>\n",
       "      <th>ind_recibo_ult1</th>\n",
       "    </tr>\n",
       "  </thead>\n",
       "  <tbody>\n",
       "    <tr>\n",
       "      <th>0</th>\n",
       "      <td>0</td>\n",
       "      <td>1375586</td>\n",
       "      <td>N</td>\n",
       "      <td>H</td>\n",
       "      <td>35.0</td>\n",
       "      <td>2015-01-12</td>\n",
       "      <td>0.0</td>\n",
       "      <td>6.0</td>\n",
       "      <td>1.0</td>\n",
       "      <td>1.0</td>\n",
       "      <td>...</td>\n",
       "      <td>0</td>\n",
       "      <td>0</td>\n",
       "      <td>0</td>\n",
       "      <td>0</td>\n",
       "      <td>0</td>\n",
       "      <td>0</td>\n",
       "      <td>0</td>\n",
       "      <td>0.0</td>\n",
       "      <td>0.0</td>\n",
       "      <td>0</td>\n",
       "    </tr>\n",
       "    <tr>\n",
       "      <th>1</th>\n",
       "      <td>1</td>\n",
       "      <td>1050611</td>\n",
       "      <td>N</td>\n",
       "      <td>V</td>\n",
       "      <td>23.0</td>\n",
       "      <td>2012-08-10</td>\n",
       "      <td>0.0</td>\n",
       "      <td>35.0</td>\n",
       "      <td>1.0</td>\n",
       "      <td>1.0</td>\n",
       "      <td>...</td>\n",
       "      <td>0</td>\n",
       "      <td>0</td>\n",
       "      <td>0</td>\n",
       "      <td>0</td>\n",
       "      <td>0</td>\n",
       "      <td>0</td>\n",
       "      <td>0</td>\n",
       "      <td>0.0</td>\n",
       "      <td>0.0</td>\n",
       "      <td>0</td>\n",
       "    </tr>\n",
       "    <tr>\n",
       "      <th>2</th>\n",
       "      <td>2</td>\n",
       "      <td>1050612</td>\n",
       "      <td>N</td>\n",
       "      <td>V</td>\n",
       "      <td>23.0</td>\n",
       "      <td>2012-08-10</td>\n",
       "      <td>0.0</td>\n",
       "      <td>35.0</td>\n",
       "      <td>1.0</td>\n",
       "      <td>1.0</td>\n",
       "      <td>...</td>\n",
       "      <td>0</td>\n",
       "      <td>0</td>\n",
       "      <td>0</td>\n",
       "      <td>0</td>\n",
       "      <td>0</td>\n",
       "      <td>0</td>\n",
       "      <td>0</td>\n",
       "      <td>0.0</td>\n",
       "      <td>0.0</td>\n",
       "      <td>0</td>\n",
       "    </tr>\n",
       "    <tr>\n",
       "      <th>3</th>\n",
       "      <td>3</td>\n",
       "      <td>1050613</td>\n",
       "      <td>N</td>\n",
       "      <td>H</td>\n",
       "      <td>22.0</td>\n",
       "      <td>2012-08-10</td>\n",
       "      <td>0.0</td>\n",
       "      <td>35.0</td>\n",
       "      <td>1.0</td>\n",
       "      <td>1.0</td>\n",
       "      <td>...</td>\n",
       "      <td>0</td>\n",
       "      <td>0</td>\n",
       "      <td>0</td>\n",
       "      <td>0</td>\n",
       "      <td>0</td>\n",
       "      <td>0</td>\n",
       "      <td>0</td>\n",
       "      <td>0.0</td>\n",
       "      <td>0.0</td>\n",
       "      <td>0</td>\n",
       "    </tr>\n",
       "    <tr>\n",
       "      <th>4</th>\n",
       "      <td>4</td>\n",
       "      <td>1050614</td>\n",
       "      <td>N</td>\n",
       "      <td>V</td>\n",
       "      <td>23.0</td>\n",
       "      <td>2012-08-10</td>\n",
       "      <td>0.0</td>\n",
       "      <td>35.0</td>\n",
       "      <td>1.0</td>\n",
       "      <td>1.0</td>\n",
       "      <td>...</td>\n",
       "      <td>0</td>\n",
       "      <td>0</td>\n",
       "      <td>0</td>\n",
       "      <td>0</td>\n",
       "      <td>0</td>\n",
       "      <td>0</td>\n",
       "      <td>0</td>\n",
       "      <td>0.0</td>\n",
       "      <td>0.0</td>\n",
       "      <td>0</td>\n",
       "    </tr>\n",
       "  </tbody>\n",
       "</table>\n",
       "<p>5 rows × 44 columns</p>\n",
       "</div>"
      ],
      "text/plain": [
       "   Unnamed: 0  ncodpers ind_empleado sexo   age  fecha_alta  ind_nuevo  \\\n",
       "0           0   1375586            N    H  35.0  2015-01-12        0.0   \n",
       "1           1   1050611            N    V  23.0  2012-08-10        0.0   \n",
       "2           2   1050612            N    V  23.0  2012-08-10        0.0   \n",
       "3           3   1050613            N    H  22.0  2012-08-10        0.0   \n",
       "4           4   1050614            N    V  23.0  2012-08-10        0.0   \n",
       "\n",
       "   antiguedad  indrel indrel_1mes  ... ind_hip_fin_ult1  ind_plan_fin_ult1  \\\n",
       "0         6.0     1.0         1.0  ...                0                  0   \n",
       "1        35.0     1.0         1.0  ...                0                  0   \n",
       "2        35.0     1.0         1.0  ...                0                  0   \n",
       "3        35.0     1.0         1.0  ...                0                  0   \n",
       "4        35.0     1.0         1.0  ...                0                  0   \n",
       "\n",
       "   ind_pres_fin_ult1 ind_reca_fin_ult1  ind_tjcr_fin_ult1  ind_valo_fin_ult1  \\\n",
       "0                  0                 0                  0                  0   \n",
       "1                  0                 0                  0                  0   \n",
       "2                  0                 0                  0                  0   \n",
       "3                  0                 0                  0                  0   \n",
       "4                  0                 0                  0                  0   \n",
       "\n",
       "  ind_viv_fin_ult1  ind_nomina_ult1  ind_nom_pens_ult1 ind_recibo_ult1  \n",
       "0                0              0.0                0.0               0  \n",
       "1                0              0.0                0.0               0  \n",
       "2                0              0.0                0.0               0  \n",
       "3                0              0.0                0.0               0  \n",
       "4                0              0.0                0.0               0  \n",
       "\n",
       "[5 rows x 44 columns]"
      ]
     },
     "execution_count": 19,
     "metadata": {},
     "output_type": "execute_result"
    }
   ],
   "source": [
    "train_df.head()"
   ]
  },
  {
   "cell_type": "code",
   "execution_count": 5,
   "metadata": {},
   "outputs": [],
   "source": [
    "#согласно исследованию выше, удаляем незначимые колонки\n",
    "col_to_drop = ['cod_prov', 'fecha_dato', 'ult_fec_cli_1t', 'pais_residencia', 'conyuemp']\n",
    "for col in col_to_drop:\n",
    "    del train_df[col]"
   ]
  },
  {
   "cell_type": "code",
   "execution_count": 10,
   "metadata": {},
   "outputs": [
    {
     "data": {
      "text/plain": [
       "Index(['Unnamed: 0', 'ncodpers', 'ind_empleado', 'sexo', 'age', 'fecha_alta',\n",
       "       'ind_nuevo', 'antiguedad', 'indrel', 'indrel_1mes', 'tiprel_1mes',\n",
       "       'indresi', 'indext', 'canal_entrada', 'indfall', 'tipodom', 'nomprov',\n",
       "       'ind_actividad_cliente', 'renta', 'segmento', 'ind_ahor_fin_ult1',\n",
       "       'ind_aval_fin_ult1', 'ind_cco_fin_ult1', 'ind_cder_fin_ult1',\n",
       "       'ind_cno_fin_ult1', 'ind_ctju_fin_ult1', 'ind_ctma_fin_ult1',\n",
       "       'ind_ctop_fin_ult1', 'ind_ctpp_fin_ult1', 'ind_deco_fin_ult1',\n",
       "       'ind_deme_fin_ult1', 'ind_dela_fin_ult1', 'ind_ecue_fin_ult1',\n",
       "       'ind_fond_fin_ult1', 'ind_hip_fin_ult1', 'ind_plan_fin_ult1',\n",
       "       'ind_pres_fin_ult1', 'ind_reca_fin_ult1', 'ind_tjcr_fin_ult1',\n",
       "       'ind_valo_fin_ult1', 'ind_viv_fin_ult1', 'ind_nomina_ult1',\n",
       "       'ind_nom_pens_ult1', 'ind_recibo_ult1'],\n",
       "      dtype='object')"
      ]
     },
     "execution_count": 10,
     "metadata": {},
     "output_type": "execute_result"
    }
   ],
   "source": [
    "train_df.columns"
   ]
  },
  {
   "cell_type": "code",
   "execution_count": 11,
   "metadata": {},
   "outputs": [],
   "source": [
    "target = ['ind_ahor_fin_ult1',\n",
    "       'ind_aval_fin_ult1', 'ind_cco_fin_ult1', 'ind_cder_fin_ult1',\n",
    "       'ind_cno_fin_ult1', 'ind_ctju_fin_ult1', 'ind_ctma_fin_ult1',\n",
    "       'ind_ctop_fin_ult1', 'ind_ctpp_fin_ult1', 'ind_deco_fin_ult1',\n",
    "       'ind_deme_fin_ult1', 'ind_dela_fin_ult1', 'ind_ecue_fin_ult1',\n",
    "       'ind_fond_fin_ult1', 'ind_hip_fin_ult1', 'ind_plan_fin_ult1',\n",
    "       'ind_pres_fin_ult1', 'ind_reca_fin_ult1', 'ind_tjcr_fin_ult1',\n",
    "       'ind_valo_fin_ult1', 'ind_viv_fin_ult1', 'ind_nomina_ult1',\n",
    "       'ind_nom_pens_ult1', 'ind_recibo_ult1']"
   ]
  },
  {
   "cell_type": "code",
   "execution_count": 12,
   "metadata": {},
   "outputs": [],
   "source": [
    "features = ['ncodpers', 'ind_empleado', 'sexo', 'age', 'fecha_alta',\n",
    "       'ind_nuevo', 'antiguedad', 'indrel', 'indrel_1mes', 'tiprel_1mes',\n",
    "       'indresi', 'indext', 'canal_entrada', 'indfall', 'tipodom', 'nomprov',\n",
    "       'ind_actividad_cliente', 'renta', 'segmento', 'ind_ahor_fin_ult1']"
   ]
  },
  {
   "cell_type": "code",
   "execution_count": 14,
   "metadata": {},
   "outputs": [
    {
     "data": {
      "text/html": [
       "<div>\n",
       "<style scoped>\n",
       "    .dataframe tbody tr th:only-of-type {\n",
       "        vertical-align: middle;\n",
       "    }\n",
       "\n",
       "    .dataframe tbody tr th {\n",
       "        vertical-align: top;\n",
       "    }\n",
       "\n",
       "    .dataframe thead th {\n",
       "        text-align: right;\n",
       "    }\n",
       "</style>\n",
       "<table border=\"1\" class=\"dataframe\">\n",
       "  <thead>\n",
       "    <tr style=\"text-align: right;\">\n",
       "      <th></th>\n",
       "      <th>ncodpers</th>\n",
       "      <th>ind_empleado</th>\n",
       "      <th>sexo</th>\n",
       "      <th>age</th>\n",
       "      <th>fecha_alta</th>\n",
       "      <th>ind_nuevo</th>\n",
       "      <th>antiguedad</th>\n",
       "      <th>indrel</th>\n",
       "      <th>indrel_1mes</th>\n",
       "      <th>tiprel_1mes</th>\n",
       "      <th>indresi</th>\n",
       "      <th>indext</th>\n",
       "      <th>canal_entrada</th>\n",
       "      <th>indfall</th>\n",
       "      <th>tipodom</th>\n",
       "      <th>nomprov</th>\n",
       "      <th>ind_actividad_cliente</th>\n",
       "      <th>renta</th>\n",
       "      <th>segmento</th>\n",
       "      <th>ind_ahor_fin_ult1</th>\n",
       "    </tr>\n",
       "  </thead>\n",
       "  <tbody>\n",
       "    <tr>\n",
       "      <th>0</th>\n",
       "      <td>1375586</td>\n",
       "      <td>N</td>\n",
       "      <td>H</td>\n",
       "      <td>35.0</td>\n",
       "      <td>2015-01-12</td>\n",
       "      <td>0.0</td>\n",
       "      <td>6.0</td>\n",
       "      <td>1.0</td>\n",
       "      <td>1.0</td>\n",
       "      <td>A</td>\n",
       "      <td>1.0</td>\n",
       "      <td>0.0</td>\n",
       "      <td>KHL</td>\n",
       "      <td>0.0</td>\n",
       "      <td>1.0</td>\n",
       "      <td>MALAGA</td>\n",
       "      <td>1.0</td>\n",
       "      <td>87218.10</td>\n",
       "      <td>02 - PARTICULARES</td>\n",
       "      <td>0</td>\n",
       "    </tr>\n",
       "    <tr>\n",
       "      <th>1</th>\n",
       "      <td>1050611</td>\n",
       "      <td>N</td>\n",
       "      <td>V</td>\n",
       "      <td>23.0</td>\n",
       "      <td>2012-08-10</td>\n",
       "      <td>0.0</td>\n",
       "      <td>35.0</td>\n",
       "      <td>1.0</td>\n",
       "      <td>1.0</td>\n",
       "      <td>I</td>\n",
       "      <td>1.0</td>\n",
       "      <td>1.0</td>\n",
       "      <td>KHE</td>\n",
       "      <td>0.0</td>\n",
       "      <td>1.0</td>\n",
       "      <td>CIUDAD REAL</td>\n",
       "      <td>0.0</td>\n",
       "      <td>35548.74</td>\n",
       "      <td>03 - UNIVERSITARIO</td>\n",
       "      <td>0</td>\n",
       "    </tr>\n",
       "    <tr>\n",
       "      <th>2</th>\n",
       "      <td>1050612</td>\n",
       "      <td>N</td>\n",
       "      <td>V</td>\n",
       "      <td>23.0</td>\n",
       "      <td>2012-08-10</td>\n",
       "      <td>0.0</td>\n",
       "      <td>35.0</td>\n",
       "      <td>1.0</td>\n",
       "      <td>1.0</td>\n",
       "      <td>I</td>\n",
       "      <td>1.0</td>\n",
       "      <td>0.0</td>\n",
       "      <td>KHE</td>\n",
       "      <td>0.0</td>\n",
       "      <td>1.0</td>\n",
       "      <td>CIUDAD REAL</td>\n",
       "      <td>0.0</td>\n",
       "      <td>122179.11</td>\n",
       "      <td>03 - UNIVERSITARIO</td>\n",
       "      <td>0</td>\n",
       "    </tr>\n",
       "    <tr>\n",
       "      <th>3</th>\n",
       "      <td>1050613</td>\n",
       "      <td>N</td>\n",
       "      <td>H</td>\n",
       "      <td>22.0</td>\n",
       "      <td>2012-08-10</td>\n",
       "      <td>0.0</td>\n",
       "      <td>35.0</td>\n",
       "      <td>1.0</td>\n",
       "      <td>1.0</td>\n",
       "      <td>I</td>\n",
       "      <td>1.0</td>\n",
       "      <td>0.0</td>\n",
       "      <td>KHD</td>\n",
       "      <td>0.0</td>\n",
       "      <td>1.0</td>\n",
       "      <td>ZARAGOZA</td>\n",
       "      <td>0.0</td>\n",
       "      <td>119775.54</td>\n",
       "      <td>03 - UNIVERSITARIO</td>\n",
       "      <td>0</td>\n",
       "    </tr>\n",
       "    <tr>\n",
       "      <th>4</th>\n",
       "      <td>1050614</td>\n",
       "      <td>N</td>\n",
       "      <td>V</td>\n",
       "      <td>23.0</td>\n",
       "      <td>2012-08-10</td>\n",
       "      <td>0.0</td>\n",
       "      <td>35.0</td>\n",
       "      <td>1.0</td>\n",
       "      <td>1.0</td>\n",
       "      <td>A</td>\n",
       "      <td>1.0</td>\n",
       "      <td>0.0</td>\n",
       "      <td>KHE</td>\n",
       "      <td>0.0</td>\n",
       "      <td>1.0</td>\n",
       "      <td>ZARAGOZA</td>\n",
       "      <td>1.0</td>\n",
       "      <td>NaN</td>\n",
       "      <td>03 - UNIVERSITARIO</td>\n",
       "      <td>0</td>\n",
       "    </tr>\n",
       "  </tbody>\n",
       "</table>\n",
       "</div>"
      ],
      "text/plain": [
       "   ncodpers ind_empleado sexo   age  fecha_alta  ind_nuevo  antiguedad  \\\n",
       "0   1375586            N    H  35.0  2015-01-12        0.0         6.0   \n",
       "1   1050611            N    V  23.0  2012-08-10        0.0        35.0   \n",
       "2   1050612            N    V  23.0  2012-08-10        0.0        35.0   \n",
       "3   1050613            N    H  22.0  2012-08-10        0.0        35.0   \n",
       "4   1050614            N    V  23.0  2012-08-10        0.0        35.0   \n",
       "\n",
       "   indrel indrel_1mes tiprel_1mes  indresi  indext canal_entrada  indfall  \\\n",
       "0     1.0         1.0           A      1.0     0.0           KHL      0.0   \n",
       "1     1.0         1.0           I      1.0     1.0           KHE      0.0   \n",
       "2     1.0         1.0           I      1.0     0.0           KHE      0.0   \n",
       "3     1.0         1.0           I      1.0     0.0           KHD      0.0   \n",
       "4     1.0         1.0           A      1.0     0.0           KHE      0.0   \n",
       "\n",
       "   tipodom      nomprov  ind_actividad_cliente      renta            segmento  \\\n",
       "0      1.0       MALAGA                    1.0   87218.10   02 - PARTICULARES   \n",
       "1      1.0  CIUDAD REAL                    0.0   35548.74  03 - UNIVERSITARIO   \n",
       "2      1.0  CIUDAD REAL                    0.0  122179.11  03 - UNIVERSITARIO   \n",
       "3      1.0     ZARAGOZA                    0.0  119775.54  03 - UNIVERSITARIO   \n",
       "4      1.0     ZARAGOZA                    1.0        NaN  03 - UNIVERSITARIO   \n",
       "\n",
       "   ind_ahor_fin_ult1  \n",
       "0                  0  \n",
       "1                  0  \n",
       "2                  0  \n",
       "3                  0  \n",
       "4                  0  "
      ]
     },
     "execution_count": 14,
     "metadata": {},
     "output_type": "execute_result"
    }
   ],
   "source": [
    "train_df[features].head()"
   ]
  },
  {
   "cell_type": "code",
   "execution_count": 16,
   "metadata": {},
   "outputs": [],
   "source": [
    "# дозаполним доход как медиана по региону, потому что пропусков достаточно много, просто заполним медианой слишком\n",
    "def fillna_group_mean(series):\n",
    "    mean_value = series.mean()\n",
    "    return series.fillna(mean_value)\n",
    "train_df['renta'] = train_df['renta'].where(train_df['renta'].notna(),\n",
    "                                               train_df.groupby('nomprov')['renta'].transform(fillna_group_mean))"
   ]
  },
  {
   "cell_type": "code",
   "execution_count": 17,
   "metadata": {},
   "outputs": [
    {
     "data": {
      "text/plain": [
       "(9025333, 44)"
      ]
     },
     "execution_count": 17,
     "metadata": {},
     "output_type": "execute_result"
    }
   ],
   "source": [
    "train_df.shape"
   ]
  },
  {
   "cell_type": "code",
   "execution_count": 18,
   "metadata": {},
   "outputs": [
    {
     "name": "stdout",
     "output_type": "stream",
     "text": [
      "Unnamed: 0                    0\n",
      "ncodpers                      0\n",
      "ind_empleado              27734\n",
      "sexo                      27779\n",
      "age                       27734\n",
      "fecha_alta                27734\n",
      "ind_nuevo                 27734\n",
      "antiguedad                27734\n",
      "indrel                    27734\n",
      "indrel_1mes              125549\n",
      "tiprel_1mes              125549\n",
      "indresi                   27734\n",
      "indext                    27734\n",
      "canal_entrada            147301\n",
      "indfall                   27734\n",
      "tipodom                   27735\n",
      "nomprov                   73657\n",
      "ind_actividad_cliente     27734\n",
      "renta                     73599\n",
      "segmento                 149009\n",
      "ind_ahor_fin_ult1             0\n",
      "ind_aval_fin_ult1             0\n",
      "ind_cco_fin_ult1              0\n",
      "ind_cder_fin_ult1             0\n",
      "ind_cno_fin_ult1              0\n",
      "ind_ctju_fin_ult1             0\n",
      "ind_ctma_fin_ult1             0\n",
      "ind_ctop_fin_ult1             0\n",
      "ind_ctpp_fin_ult1             0\n",
      "ind_deco_fin_ult1             0\n",
      "ind_deme_fin_ult1             0\n",
      "ind_dela_fin_ult1             0\n",
      "ind_ecue_fin_ult1             0\n",
      "ind_fond_fin_ult1             0\n",
      "ind_hip_fin_ult1              0\n",
      "ind_plan_fin_ult1             0\n",
      "ind_pres_fin_ult1             0\n",
      "ind_reca_fin_ult1             0\n",
      "ind_tjcr_fin_ult1             0\n",
      "ind_valo_fin_ult1             0\n",
      "ind_viv_fin_ult1              0\n",
      "ind_nomina_ult1           16063\n",
      "ind_nom_pens_ult1         16063\n",
      "ind_recibo_ult1               0\n",
      "dtype: int64\n"
     ]
    }
   ],
   "source": [
    "print(train_df.isnull().sum())"
   ]
  },
  {
   "cell_type": "code",
   "execution_count": 33,
   "metadata": {},
   "outputs": [],
   "source": [
    "def detect_outliers(df, column):\n",
    "    Q1 = df[column].quantile(0.25)\n",
    "    Q3 = df[column].quantile(0.75)\n",
    "    IQR = Q3 - Q1\n",
    "    lower_bound = Q1 - 3 * IQR\n",
    "    upper_bound = Q3 + 3 * IQR\n",
    "    return df[(df[column] < lower_bound) | (df[column] > upper_bound)]"
   ]
  },
  {
   "cell_type": "code",
   "execution_count": 34,
   "metadata": {},
   "outputs": [
    {
     "name": "stdout",
     "output_type": "stream",
     "text": [
      "           age\n",
      "4099515  163.0\n",
      "        antiguedad\n",
      "452687   -999999.0\n",
      "             renta\n",
      "181      640168.26\n",
      "312      694172.85\n",
      "364      440329.68\n",
      "400      517491.03\n",
      "467      926880.45\n",
      "...            ...\n",
      "6296725  588564.84\n",
      "6297060  546984.75\n",
      "6297318  509294.97\n",
      "6297367  418573.80\n",
      "6297584  481818.21\n",
      "\n",
      "[12029 rows x 1 columns]\n"
     ]
    }
   ],
   "source": [
    "num_columns = ['age', 'antiguedad', \"renta\"]\n",
    "for column in num_columns:\n",
    "    print(detect_outliers(train_df[[column]],column).drop_duplicates()) "
   ]
  },
  {
   "cell_type": "code",
   "execution_count": 35,
   "metadata": {},
   "outputs": [],
   "source": [
    "def drop_outliers(df, column):\n",
    "    Q1 = df[column].quantile(0.25)\n",
    "    Q3 = df[column].quantile(0.75)\n",
    "    IQR = Q3 - Q1\n",
    "    lower_bound = Q1 - 3 * IQR\n",
    "    upper_bound = Q3 + 3 * IQR\n",
    "    return df[(df[column] >= lower_bound) & (df[column] <= upper_bound)]"
   ]
  },
  {
   "cell_type": "code",
   "execution_count": 36,
   "metadata": {},
   "outputs": [],
   "source": [
    "for column in num_columns:\n",
    "    train_df = drop_outliers(train_df,column)"
   ]
  },
  {
   "cell_type": "code",
   "execution_count": 37,
   "metadata": {},
   "outputs": [
    {
     "data": {
      "text/plain": [
       "(8772847, 44)"
      ]
     },
     "execution_count": 37,
     "metadata": {},
     "output_type": "execute_result"
    }
   ],
   "source": [
    "train_df.shape"
   ]
  },
  {
   "cell_type": "code",
   "execution_count": 38,
   "metadata": {},
   "outputs": [
    {
     "name": "stdout",
     "output_type": "stream",
     "text": [
      "Unnamed: 0                    0\n",
      "ncodpers                      0\n",
      "ind_empleado                  0\n",
      "sexo                         45\n",
      "age                           0\n",
      "fecha_alta                    0\n",
      "ind_nuevo                     0\n",
      "antiguedad                    0\n",
      "indrel                        0\n",
      "indrel_1mes               97343\n",
      "tiprel_1mes               97343\n",
      "indresi                       0\n",
      "indext                        0\n",
      "canal_entrada            118319\n",
      "indfall                       0\n",
      "tipodom                       0\n",
      "nomprov                      57\n",
      "ind_actividad_cliente         0\n",
      "renta                         0\n",
      "segmento                 119965\n",
      "ind_ahor_fin_ult1             0\n",
      "ind_aval_fin_ult1             0\n",
      "ind_cco_fin_ult1              0\n",
      "ind_cder_fin_ult1             0\n",
      "ind_cno_fin_ult1              0\n",
      "ind_ctju_fin_ult1             0\n",
      "ind_ctma_fin_ult1             0\n",
      "ind_ctop_fin_ult1             0\n",
      "ind_ctpp_fin_ult1             0\n",
      "ind_deco_fin_ult1             0\n",
      "ind_deme_fin_ult1             0\n",
      "ind_dela_fin_ult1             0\n",
      "ind_ecue_fin_ult1             0\n",
      "ind_fond_fin_ult1             0\n",
      "ind_hip_fin_ult1              0\n",
      "ind_plan_fin_ult1             0\n",
      "ind_pres_fin_ult1             0\n",
      "ind_reca_fin_ult1             0\n",
      "ind_tjcr_fin_ult1             0\n",
      "ind_valo_fin_ult1             0\n",
      "ind_viv_fin_ult1              0\n",
      "ind_nomina_ult1             205\n",
      "ind_nom_pens_ult1           205\n",
      "ind_recibo_ult1               0\n",
      "dtype: int64\n"
     ]
    }
   ],
   "source": [
    "print(train_df.isnull().sum())"
   ]
  },
  {
   "cell_type": "code",
   "execution_count": 39,
   "metadata": {},
   "outputs": [],
   "source": [
    "train_df = train_df.dropna()\n",
    " "
   ]
  },
  {
   "cell_type": "code",
   "execution_count": 41,
   "metadata": {},
   "outputs": [],
   "source": [
    "train_df.to_csv(os.path.join(DATA, \"processed\", \"train_prep.csv\"))"
   ]
  },
  {
   "cell_type": "code",
   "execution_count": null,
   "metadata": {},
   "outputs": [],
   "source": []
  },
  {
   "cell_type": "markdown",
   "metadata": {},
   "source": []
  }
 ],
 "metadata": {
  "kernelspec": {
   "display_name": ".venv_project_name",
   "language": "python",
   "name": "python3"
  },
  "language_info": {
   "codemirror_mode": {
    "name": "ipython",
    "version": 3
   },
   "file_extension": ".py",
   "mimetype": "text/x-python",
   "name": "python",
   "nbconvert_exporter": "python",
   "pygments_lexer": "ipython3",
   "version": "3.10.12"
  }
 },
 "nbformat": 4,
 "nbformat_minor": 2
}
